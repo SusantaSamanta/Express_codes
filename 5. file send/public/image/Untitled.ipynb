{
  "nbformat": 4,
  "nbformat_minor": 0,
  "metadata": {
    "colab": {
      "provenance": []
    },
    "kernelspec": {
      "name": "python3",
      "display_name": "Python 3"
    },
    "language_info": {
      "name": "python"
    }
  },
  "cells": [
    {
      "cell_type": "code",
      "execution_count": null,
      "metadata": {
        "colab": {
          "base_uri": "https://localhost:8080/"
        },
        "id": "bf4XwtZDnZW5",
        "outputId": "b6cf5c4f-a6c0-48a3-b383-8807d9aa8a44"
      },
      "outputs": [
        {
          "output_type": "stream",
          "name": "stdout",
          "text": [
            "[1 2 3 4 5]\n"
          ]
        }
      ],
      "source": [
        "import numpy as np\n",
        "\n",
        "\n",
        "arr = np.array([1,2,3,4,5])\n",
        "print(arr)\n"
      ]
    },
    {
      "cell_type": "code",
      "source": [
        "arr = np.full((3,4),3)\n",
        "print(arr)"
      ],
      "metadata": {
        "colab": {
          "base_uri": "https://localhost:8080/"
        },
        "id": "FUXedQXoo4vG",
        "outputId": "bd34b56a-6df5-470b-fb66-d82e0882f263"
      },
      "execution_count": null,
      "outputs": [
        {
          "output_type": "stream",
          "name": "stdout",
          "text": [
            "[[3 3 3 3]\n",
            " [3 3 3 3]\n",
            " [3 3 3 3]]\n"
          ]
        }
      ]
    },
    {
      "cell_type": "code",
      "source": [
        "identity_matrix = np.eye(3)\n",
        "print(identity_matrix)"
      ],
      "metadata": {
        "colab": {
          "base_uri": "https://localhost:8080/"
        },
        "id": "N65iza6gps7W",
        "outputId": "a4435a40-c018-4486-9940-a960c270cb9f"
      },
      "execution_count": null,
      "outputs": [
        {
          "output_type": "stream",
          "name": "stdout",
          "text": [
            "[[1. 0. 0.]\n",
            " [0. 1. 0.]\n",
            " [0. 0. 1.]]\n"
          ]
        }
      ]
    },
    {
      "cell_type": "code",
      "source": [
        "square_arr = np.arange(0, 10, 2)\n",
        "print(square_arr)"
      ],
      "metadata": {
        "colab": {
          "base_uri": "https://localhost:8080/"
        },
        "id": "MJ9KkjDXrg6O",
        "outputId": "19e870df-e91d-4114-932a-0d39c493c5ff"
      },
      "execution_count": null,
      "outputs": [
        {
          "output_type": "stream",
          "name": "stdout",
          "text": [
            "[0 2 4 6 8]\n"
          ]
        }
      ]
    },
    {
      "cell_type": "code",
      "source": [
        "square_arr = np.arange(2, 10, 2)\n",
        "print(square_arr)"
      ],
      "metadata": {
        "colab": {
          "base_uri": "https://localhost:8080/"
        },
        "id": "-R0TzzBXr0kW",
        "outputId": "cb0beca9-eb64-4107-c86b-04d47a93a187"
      },
      "execution_count": null,
      "outputs": [
        {
          "output_type": "stream",
          "name": "stdout",
          "text": [
            "[2 4 6 8]\n"
          ]
        }
      ]
    },
    {
      "cell_type": "code",
      "source": [
        "square_arr = np.arange(0, 10, 3)\n",
        "print(square_arr)"
      ],
      "metadata": {
        "colab": {
          "base_uri": "https://localhost:8080/"
        },
        "id": "ZQjZmzixr6CG",
        "outputId": "417dc77a-062e-4078-9633-4db0a226d39a"
      },
      "execution_count": null,
      "outputs": [
        {
          "output_type": "stream",
          "name": "stdout",
          "text": [
            "[0 3 6 9]\n"
          ]
        }
      ]
    },
    {
      "cell_type": "code",
      "source": [
        "square_arr = np.arange(10, 21, 2)\n",
        "print(square_arr)"
      ],
      "metadata": {
        "colab": {
          "base_uri": "https://localhost:8080/"
        },
        "id": "lGJQdin9sDAm",
        "outputId": "50afbd59-de46-44b6-a182-c4a5d5b235d5"
      },
      "execution_count": null,
      "outputs": [
        {
          "output_type": "stream",
          "name": "stdout",
          "text": [
            "[10 12 14 16 18 20]\n"
          ]
        }
      ]
    },
    {
      "cell_type": "code",
      "source": [
        "square_arr = np.arange(10, 51, 4)\n",
        "print(square_arr)"
      ],
      "metadata": {
        "colab": {
          "base_uri": "https://localhost:8080/"
        },
        "id": "_jxNsFOas6_o",
        "outputId": "73760f7d-101f-4e4c-ea81-e10f18fe72ec"
      },
      "execution_count": null,
      "outputs": [
        {
          "output_type": "stream",
          "name": "stdout",
          "text": [
            "[10 14 18 22 26 30 34 38 42 46 50]\n"
          ]
        }
      ]
    },
    {
      "cell_type": "code",
      "source": [
        "lin_space = np.linspace(1, 5, 10)\n",
        "print(lin_space)\n",
        "# ( destination - source ) / total number of digit - 1"
      ],
      "metadata": {
        "colab": {
          "base_uri": "https://localhost:8080/"
        },
        "id": "ZB5S5BlCtsff",
        "outputId": "6c42d982-de00-47a5-df44-7391ff96aa96"
      },
      "execution_count": null,
      "outputs": [
        {
          "output_type": "stream",
          "name": "stdout",
          "text": [
            "[1.         1.44444444 1.88888889 2.33333333 2.77777778 3.22222222\n",
            " 3.66666667 4.11111111 4.55555556 5.        ]\n"
          ]
        }
      ]
    },
    {
      "cell_type": "code",
      "source": [
        "# Array Properties\n",
        "\n",
        "arr = np.array([[1, 2, 3,8], [4, 5, 6,9]])\n",
        "print(arr.shape)  # (rows, columns)\n",
        "print(arr.size)   # Total elements\n",
        "print(arr.ndim)   # Number of dimensions\n",
        "print(arr.dtype)  # Data type of elements"
      ],
      "metadata": {
        "colab": {
          "base_uri": "https://localhost:8080/"
        },
        "id": "sUnmC18Xp6YL",
        "outputId": "e11c7cca-3e32-48f3-fdb9-92e49c044668"
      },
      "execution_count": 9,
      "outputs": [
        {
          "output_type": "stream",
          "name": "stdout",
          "text": [
            "(2, 4)\n",
            "8\n",
            "2\n",
            "int64\n"
          ]
        }
      ]
    },
    {
      "cell_type": "code",
      "source": [
        "# Reshape and Flatten\n",
        "\n",
        "# Reshape (2x3 to 3x2)\n",
        "reshaped_arr = arr.reshape(3, 2)\n",
        "print(reshaped_arr)\n",
        "# Flatten (convert multi-dimensional array to 1D)\n",
        "flattened_arr = arr.flatten()\n",
        "print(flattened_arr)"
      ],
      "metadata": {
        "colab": {
          "base_uri": "https://localhost:8080/",
          "height": 211
        },
        "id": "AMZ6pisGrsTx",
        "outputId": "2a9d7cb1-89ca-4a80-8754-c95f50b94051"
      },
      "execution_count": 10,
      "outputs": [
        {
          "output_type": "error",
          "ename": "ValueError",
          "evalue": "cannot reshape array of size 8 into shape (3,2)",
          "traceback": [
            "\u001b[0;31m---------------------------------------------------------------------------\u001b[0m",
            "\u001b[0;31mValueError\u001b[0m                                Traceback (most recent call last)",
            "\u001b[0;32m<ipython-input-10-f1059d3aa785>\u001b[0m in \u001b[0;36m<cell line: 0>\u001b[0;34m()\u001b[0m\n\u001b[1;32m      2\u001b[0m \u001b[0;34m\u001b[0m\u001b[0m\n\u001b[1;32m      3\u001b[0m \u001b[0;31m# Reshape (2x3 to 3x2)\u001b[0m\u001b[0;34m\u001b[0m\u001b[0;34m\u001b[0m\u001b[0m\n\u001b[0;32m----> 4\u001b[0;31m \u001b[0mreshaped_arr\u001b[0m \u001b[0;34m=\u001b[0m \u001b[0marr\u001b[0m\u001b[0;34m.\u001b[0m\u001b[0mreshape\u001b[0m\u001b[0;34m(\u001b[0m\u001b[0;36m3\u001b[0m\u001b[0;34m,\u001b[0m \u001b[0;36m2\u001b[0m\u001b[0;34m)\u001b[0m\u001b[0;34m\u001b[0m\u001b[0;34m\u001b[0m\u001b[0m\n\u001b[0m\u001b[1;32m      5\u001b[0m \u001b[0mprint\u001b[0m\u001b[0;34m(\u001b[0m\u001b[0mreshaped_arr\u001b[0m\u001b[0;34m)\u001b[0m\u001b[0;34m\u001b[0m\u001b[0;34m\u001b[0m\u001b[0m\n\u001b[1;32m      6\u001b[0m \u001b[0;31m# Flatten (convert multi-dimensional array to 1D)\u001b[0m\u001b[0;34m\u001b[0m\u001b[0;34m\u001b[0m\u001b[0m\n",
            "\u001b[0;31mValueError\u001b[0m: cannot reshape array of size 8 into shape (3,2)"
          ]
        }
      ]
    },
    {
      "cell_type": "code",
      "source": [
        "# Mathematical Operations\n",
        "\n",
        "a = np.array([1, 2, 3, 8])\n",
        "b = np.array([4, 5, 6, 89])\n",
        "print(a + b)  # Element-wise addition\n",
        "print(a - b)  # Element-wise subtraction\n",
        "print(a * b)  # Element-wise multiplication\n",
        "print(a / b)  # Element-wise division\n",
        "print(a ** 2)  # Element-wise power\n",
        "# Matrix multiplication\n",
        "mat1 = np.array([[1, 2], [3, 4]]) # 1  2     5  6\n",
        "mat2 = np.array([[5, 6], [7, 8]]) # 3  4     7  8\n",
        "dot_product = np.dot(mat1, mat2)\n",
        "print(dot_product)"
      ],
      "metadata": {
        "colab": {
          "base_uri": "https://localhost:8080/"
        },
        "id": "CnAkWe6OsRcQ",
        "outputId": "be06429a-82c3-476b-c4e6-49a7922f0f09"
      },
      "execution_count": 14,
      "outputs": [
        {
          "output_type": "stream",
          "name": "stdout",
          "text": [
            "[ 5  7  9 97]\n",
            "[ -3  -3  -3 -81]\n",
            "[  4  10  18 712]\n",
            "[0.25       0.4        0.5        0.08988764]\n",
            "[ 1  4  9 64]\n",
            "[[19 22]\n",
            " [43 50]]\n"
          ]
        }
      ]
    },
    {
      "cell_type": "code",
      "source": [
        "# 9 aggregate Function\n",
        "import numpy as np\n",
        "\n",
        "arr = np.array([1, 2, 43, 4, 5])\n",
        "\n",
        "print(np.sum(arr))     # Sum of elements\n",
        "print(np.mean(arr))    # Mean\n",
        "print(np.median(arr))  # Median\n",
        "print(np.std(arr))     # Standard deviation\n",
        "print(np.var(arr))     # Variance\n",
        "print(np.min(arr))     # Minimum value\n",
        "print(np.max(arr)) #maximum"
      ],
      "metadata": {
        "colab": {
          "base_uri": "https://localhost:8080/"
        },
        "id": "v00aeVZGk3O_",
        "outputId": "fc6bb37f-27d0-4dfe-b6dc-b2814e6f02cc"
      },
      "execution_count": 6,
      "outputs": [
        {
          "output_type": "stream",
          "name": "stdout",
          "text": [
            "55\n",
            "11.0\n",
            "4.0\n",
            "16.06237840420901\n",
            "258.0\n",
            "1\n",
            "43\n"
          ]
        }
      ]
    },
    {
      "cell_type": "code",
      "source": [
        "#  Indexing & Slicing\n",
        "\n",
        "arr = np.array([10, 20, 30, 40, 50])\n",
        "print(arr[1])        # Access single element (index 1)\n",
        "print(arr[1:4])      # Slice elements from index 1 to 3\n",
        "print(arr[:3])       # First 3 elements\n",
        "print(arr[-2:])      # Last 2 elements\n",
        "# 2D array indexing\n",
        "arr2d = np.array([[1, 2, 3], [4, 5, 6]])\n",
        "print(arr2d[0, 1])    # Row 0, Column 1\n",
        "print(arr2d[:, 1])    # All rows, Column 1\n",
        "print(arr2d[1, :])    # Row 1, All columns"
      ],
      "metadata": {
        "colab": {
          "base_uri": "https://localhost:8080/"
        },
        "id": "ZCDqejqnuBGy",
        "outputId": "673e7a89-f181-4187-8115-83d604492347"
      },
      "execution_count": 19,
      "outputs": [
        {
          "output_type": "stream",
          "name": "stdout",
          "text": [
            "20\n",
            "[20 30 40]\n",
            "[10 20 30]\n",
            "[40 50]\n",
            "2\n",
            "[2 5]\n",
            "[4 5 6]\n"
          ]
        }
      ]
    },
    {
      "cell_type": "code",
      "source": [
        "#Filtering Data\n",
        "arr = np.array([10, 20, 30, 40, 50])\n",
        "# Condition-based filtering\n",
        "filtered_arr = arr[arr > 20]\n",
        "print(filtered_arr)"
      ],
      "metadata": {
        "colab": {
          "base_uri": "https://localhost:8080/"
        },
        "id": "VZ21CLdgvZ5j",
        "outputId": "02cfbe87-bc6e-4638-fd2b-1a97cfa440e5"
      },
      "execution_count": 20,
      "outputs": [
        {
          "output_type": "stream",
          "name": "stdout",
          "text": [
            "[30 40 50]\n"
          ]
        }
      ]
    },
    {
      "cell_type": "code",
      "source": [
        "# Stacking Arrays\n",
        "\n",
        "a = np.array([[1, 2], [3, 4]])\n",
        "b = np.array([[5, 6], [7, 8]])\n",
        "# Vertical stack\n",
        "v_stack = np.vstack((a, b))\n",
        "print(v_stack)\n",
        "# Horizontal stack\n",
        "h_stack = np.hstack((a, b))\n",
        "print(h_stack)"
      ],
      "metadata": {
        "colab": {
          "base_uri": "https://localhost:8080/"
        },
        "id": "WNeQelBhw2ch",
        "outputId": "87aeb90f-2238-44f8-fb34-a856cc483f5f"
      },
      "execution_count": 21,
      "outputs": [
        {
          "output_type": "stream",
          "name": "stdout",
          "text": [
            "[[1 2]\n",
            " [3 4]\n",
            " [5 6]\n",
            " [7 8]]\n",
            "[[1 2 5 6]\n",
            " [3 4 7 8]]\n"
          ]
        }
      ]
    },
    {
      "cell_type": "code",
      "source": [
        "# Splitting Arrays\n",
        "\n",
        "arr = np.array([1, 2, 3, 4, 5, 6, 5, 9, 5, 8])\n",
        "# Split into 3 parts\n",
        "split_arr = np.array_split(arr, 3)\n",
        "print(split_arr)"
      ],
      "metadata": {
        "colab": {
          "base_uri": "https://localhost:8080/"
        },
        "id": "qivaCHLg5M0c",
        "outputId": "5ede6c18-fd47-4ea0-aeca-f9dab863fee7"
      },
      "execution_count": 25,
      "outputs": [
        {
          "output_type": "stream",
          "name": "stdout",
          "text": [
            "[array([1, 2, 3, 4]), array([5, 6, 5]), array([9, 5, 8])]\n"
          ]
        }
      ]
    },
    {
      "cell_type": "code",
      "source": [
        " #Copy vs View\n",
        "\n",
        "\n",
        "arr = np.array([1, 2, 3])\n",
        "# View (changes in view affect the original)\n",
        "view_arr = arr.view()\n",
        "view_arr[0] = 87\n",
        "print(arr)\n",
        "# Copy (changes in copy do not affect the original)\n",
        "copy_arr = arr.copy()\n",
        "copy_arr[0] = 50\n",
        "print(arr)\n",
        "\n",
        "\n",
        "arrr = np.array([30,80])\n",
        "newArr = arrr.copy()\n",
        "newArr[0] = 20\n",
        "print(arrr)"
      ],
      "metadata": {
        "colab": {
          "base_uri": "https://localhost:8080/"
        },
        "id": "qLEJ1-NQ7ZuM",
        "outputId": "5524afdd-1172-4dba-bae6-eea8a5d88d2b"
      },
      "execution_count": 38,
      "outputs": [
        {
          "output_type": "stream",
          "name": "stdout",
          "text": [
            "[87  2  3]\n",
            "[87  2  3]\n",
            "[30 80]\n"
          ]
        }
      ]
    },
    {
      "cell_type": "code",
      "source": [
        "# python np sort arr\n",
        "arr = np.array([3, 1, 4, 1, 5, 9, 8, 90, 60, 3, 6, 4, 76])\n",
        "sorted_arr = np.sort(arr)\n",
        "newArr = sorted_arr[sorted_arr <= 10] #filter\n",
        "print(sorted_arr)\n",
        "print(newArr)"
      ],
      "metadata": {
        "colab": {
          "base_uri": "https://localhost:8080/"
        },
        "id": "sUP115Ar9tK5",
        "outputId": "edcd1382-d3e5-4fa2-ca13-84f5fbd8a709"
      },
      "execution_count": 47,
      "outputs": [
        {
          "output_type": "stream",
          "name": "stdout",
          "text": [
            "[ 1  1  3  3  4  4  5  6  8  9 60 76 90]\n",
            "[1 1 3 3 4 4 5 6 8 9]\n"
          ]
        }
      ]
    },
    {
      "cell_type": "code",
      "source": [
        "#Install Pandas\n",
        "\n",
        "import pandas as pd\n",
        "\n",
        "data = { # this is an dictionary\n",
        "'Name': ['Alice', 'Bob', 'Charlie', 'Rabi'],\n",
        "'Age': [25, 30, 35, '40'],\n",
        "'City': ['New York', 'London', 'Paris', 'Rabi']\n",
        "}\n",
        "df = pd.DataFrame(data) # dictionary converted to datafream\n",
        "print(df)"
      ],
      "metadata": {
        "colab": {
          "base_uri": "https://localhost:8080/"
        },
        "id": "ETowkaCiB6iq",
        "outputId": "0bce8038-c3bb-473e-af1d-5a979ba48da8"
      },
      "execution_count": 50,
      "outputs": [
        {
          "output_type": "stream",
          "name": "stdout",
          "text": [
            "      Name Age      City\n",
            "0    Alice  25  New York\n",
            "1      Bob  30    London\n",
            "2  Charlie  35     Paris\n",
            "3     Rabi  40      Rabi\n"
          ]
        }
      ]
    }
  ]
}